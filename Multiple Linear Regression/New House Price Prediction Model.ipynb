{
 "cells": [
  {
   "cell_type": "code",
   "execution_count": 1,
   "id": "3cb01fd9",
   "metadata": {},
   "outputs": [],
   "source": [
    "import pandas as pd\n",
    "import numpy as np\n",
    "import matplotlib.pyplot as plt\n",
    "import seaborn as sns\n",
    "import pprint as pprint\n",
    "\n",
    "from sklearn.preprocessing import OneHotEncoder, LabelEncoder, TargetEncoder\n",
    "from scipy.stats import boxcox\n",
    "\n",
    "from sklearn.model_selection import train_test_split\n",
    "from sklearn.linear_model import LinearRegression\n",
    "from sklearn.metrics import mean_squared_error, r2_score, mean_absolute_error, explained_variance_score,median_absolute_error\n",
    "from sklearn.preprocessing import StandardScaler\n",
    "from sklearn.decomposition import PCA\n",
    "\n",
    "\n",
    "%matplotlib inline\n",
    "pd.set_option('display.max_columns',None)"
   ]
  },
  {
   "cell_type": "code",
   "execution_count": 2,
   "id": "d598e2da",
   "metadata": {},
   "outputs": [],
   "source": [
    "def readData(inputPath,fileName):\n",
    "    \n",
    "    print(\"Data has been read\")\n",
    "    return pd.read_csv(inputPath+fileName+'.csv')"
   ]
  },
  {
   "cell_type": "code",
   "execution_count": 3,
   "id": "0206a40e",
   "metadata": {},
   "outputs": [],
   "source": [
    "def cleanData(df):\n",
    "    \n",
    "    # 1. Replace special values with np.nan\n",
    "    for col in df.select_dtypes(include='object').columns:\n",
    "        df[col].replace(r'^\\s*$', np.nan, regex=True, inplace=True)\n",
    "        df[col].replace(\"NaN\", np.nan, regex=True, inplace=True)\n",
    "    \n",
    "    \n",
    "    # 2. Drop columns with missing values greater than or equal to 10%\n",
    "    \n",
    "    missingColumns=((df.isnull().sum()/len(df))*100).to_dict()\n",
    "    zeroColumns=(((df==0).sum()/len(df))*100).to_dict()\n",
    "    featureValueCounts=dict(df.nunique().sort_values(ascending=False))\n",
    "\n",
    "    l=[]\n",
    "    l.append('Id')\n",
    "            # Remove columns whose missing values % is >=10%\n",
    "    for key,value in missingColumns.items():\n",
    "        if value>=10:\n",
    "            l.append(key)\n",
    " \n",
    "            # Remove columns whose missing values % is >=10%\n",
    "    for key,value in zeroColumns.items():\n",
    "        if value>=10:\n",
    "            l.append(key)\n",
    "            \n",
    "            # Remove Columns which contains only one value\n",
    "    for key,value in featureValueCounts.items():\n",
    "        if value==1:\n",
    "            l.append(key)\n",
    "    df.drop(columns=l,axis=1,inplace=True)\n",
    "    \n",
    "    df.dropna(how='any',inplace=True)\n",
    "    \n",
    "    # Identify columns based on the data type\n",
    "    objectColumns=[col for col in df.columns if df[col].dtype=='object']\n",
    "    numericColumns=[col for col in df.columns if df[col].dtype!='object']\n",
    "    \n",
    "    \n",
    "    # 3. Outlier Removal based on IQR range\n",
    "    for col in numericColumns:\n",
    "        Q1=df[col].quantile(0.25)\n",
    "        Q3=df[col].quantile(0.75)\n",
    "    \n",
    "        IQR=Q3-Q1\n",
    "    \n",
    "        lowerbound = Q1-1.5*IQR\n",
    "        upperbound = Q3+1.5*IQR\n",
    "        df=df[(df[col]>=lowerbound) & (df[col]<=upperbound)]\n",
    "    \n",
    "    \n",
    "    \n",
    "    print(\"Data has been cleaned\")\n",
    "    # Final. Return cleaned dataset\n",
    "    \n",
    "    return df, lowerbound,upperbound"
   ]
  },
  {
   "cell_type": "code",
   "execution_count": 26,
   "id": "28cd17c0",
   "metadata": {},
   "outputs": [],
   "source": [
    "def testCleanData(df,trainLowerBound,trainUpperBound):\n",
    "    \n",
    "    # 1. Replace special values with np.nan\n",
    "    for col in df.select_dtypes(include='object').columns:\n",
    "        df[col].replace(r'^\\s*$', np.nan, regex=True, inplace=True)\n",
    "        df[col].replace(\"NaN\", np.nan, regex=True, inplace=True)\n",
    "    \n",
    "    \n",
    "    # 2. Drop columns with missing values greater than or equal to 10%\n",
    "    \n",
    "    missingColumns=((df.isnull().sum()/len(df))*100).to_dict()\n",
    "    zeroColumns=(((df==0).sum()/len(df))*100).to_dict()\n",
    "    featureValueCounts=dict(df.nunique().sort_values(ascending=False))\n",
    "\n",
    "    l=[]\n",
    "#     l.append('Id')\n",
    "            # Remove columns whose missing values % is >=10%\n",
    "    for key,value in missingColumns.items():\n",
    "        if value>=10:\n",
    "            l.append(key)\n",
    " \n",
    "            # Remove columns whose missing values % is >=10%\n",
    "    for key,value in zeroColumns.items():\n",
    "        if value>=10:\n",
    "            l.append(key)\n",
    "            \n",
    "            # Remove Columns which contains only one value\n",
    "    for key,value in featureValueCounts.items():\n",
    "        if value==1:\n",
    "            l.append(key)\n",
    "    df.drop(columns=l,axis=1,inplace=True)\n",
    "    \n",
    "    df.dropna(how='any',inplace=True)\n",
    "    \n",
    "    # Identify columns based on the data type\n",
    "    objectColumns=[col for col in df.columns if df[col].dtype=='object']\n",
    "    numericColumns=[col for col in df.columns if df[col].dtype!='object']\n",
    "    \n",
    "    \n",
    "    # 3. Outlier Removal based on IQR range\n",
    "    for col in numericColumns:\n",
    "        df=df[(df[col]>=trainLowerBound) & (df[col]<=trainUpperBound)]\n",
    "    \n",
    "    \n",
    "    \n",
    "    print(\"Data has been cleaned\")\n",
    "    # Final. Return cleaned dataset\n",
    "    \n",
    "    return df"
   ]
  },
  {
   "cell_type": "code",
   "execution_count": 4,
   "id": "4b3fab73",
   "metadata": {},
   "outputs": [],
   "source": [
    "def featureEncoding(df):\n",
    "    \n",
    "    ohe=OneHotEncoder()\n",
    "    lbe=LabelEncoder()\n",
    "    encoded_dfs=[]\n",
    "    for col in df.select_dtypes(include='object').columns:\n",
    "        if df[col].nunique()==2:\n",
    "            \n",
    "            encoded=ohe.fit_transform(df[[col]]).toarray().astype('int64')\n",
    "            encodedDF=pd.DataFrame(encoded,columns=ohe.get_feature_names_out())\n",
    "            encoded_dfs.append(encodedDF)\n",
    "            print(len(encodedDF))\n",
    "            df.drop(columns=[col],axis=1,inplace=True)\n",
    "            \n",
    "        else:\n",
    "            try:\n",
    "        #         df[col]=lbe.fit_transform(df[col]).tolist() # label encoding for categorical variables with more than 2 values\n",
    "                feature_dict=df.groupby(col)['SalePrice'].median().astype('int64')\n",
    "                df[col]=df[col].map(feature_dict)\n",
    "            except :\n",
    "                pass\n",
    "            \n",
    "    \n",
    "    df.reset_index(drop=True,inplace=True)\n",
    "    df=pd.concat([df]+encoded_dfs,axis=1).reset_index(drop=True)\n",
    "    \n",
    "    print(\"Features are encoded\")\n",
    "    return df, feature_dict,ohe"
   ]
  },
  {
   "cell_type": "code",
   "execution_count": 29,
   "id": "48799ac1",
   "metadata": {},
   "outputs": [],
   "source": [
    "def trainFeatureEncoding(df,trainOHE,trainFeatureDict):\n",
    "    \n",
    "    encoded_dfs=[]\n",
    "    for col in df.select_dtypes(include='object').columns:\n",
    "        if df[col].nunique()==2:\n",
    "            \n",
    "            encoded=trainOHE.transform(df[[col]]).toarray().astype('int64')\n",
    "            encodedDF=pd.DataFrame(encoded,columns=trainOHE.get_feature_names_out())\n",
    "            encoded_dfs.append(encodedDF)\n",
    "            print(len(encodedDF))\n",
    "            df.drop(columns=[col],axis=1,inplace=True)\n",
    "            \n",
    "        else:\n",
    "            try:\n",
    "                df[col]=df[col].map(trainFeatureDict)\n",
    "            except :\n",
    "                pass\n",
    "            \n",
    "    \n",
    "    df.reset_index(drop=True,inplace=True)\n",
    "    df=pd.concat([df]+encoded_dfs,axis=1).reset_index(drop=True)\n",
    "    \n",
    "    print(\"Features are encoded\")\n",
    "    return df"
   ]
  },
  {
   "cell_type": "code",
   "execution_count": 32,
   "id": "6b54a7ca",
   "metadata": {},
   "outputs": [],
   "source": [
    "def featureTransformation(df):\n",
    "    \n",
    "    for col in df.columns:\n",
    "    \n",
    "        #tranform the independent Features\n",
    "        \n",
    "        if (df[col]>0).all() and df[col].nunique()>1 and col!='SalePrice':\n",
    "            \n",
    "#             fig,axes=plt.subplots(1,2,figsize=(10,20))\n",
    "#             sns.histplot(df[col],kde=True,ax=axes[0])\n",
    "            df[col],lamda=boxcox(df[col])\n",
    "#             sns.histplot(df[col],kde=True,ax=axes[1])\n",
    "#             plt.show()\n",
    "            \n",
    "            \n",
    "        elif col!='SalePrice':\n",
    "            df[col]=np.log(df[col]+1)\n",
    "            \n",
    "    print(\"Feature transformation is completed\")\n",
    "    return df"
   ]
  },
  {
   "cell_type": "code",
   "execution_count": 6,
   "id": "7bf21779",
   "metadata": {},
   "outputs": [],
   "source": [
    "def trainTestSplit(X,Y):\n",
    "    \n",
    "    return train_test_split(X,Y,test_size=0.50,random_state=42)"
   ]
  },
  {
   "cell_type": "code",
   "execution_count": 7,
   "id": "fe5e8456",
   "metadata": {},
   "outputs": [],
   "source": [
    "def modelTraining(X_train,Y_train):\n",
    "    \n",
    "    ss=StandardScaler()\n",
    "    \n",
    "    X_train_scaled=ss.fit_transform(X_train)\n",
    "    \n",
    "    lm=LinearRegression()\n",
    "    lm.fit(X_train_scaled,Y_train)\n",
    "    \n",
    "    return lm,ss\n",
    "    \n",
    "    "
   ]
  },
  {
   "cell_type": "code",
   "execution_count": 8,
   "id": "cd0076d9",
   "metadata": {},
   "outputs": [],
   "source": [
    "def modelTesting(X_test,Y_test,lm,ss):\n",
    "    \n",
    "    X_test_Scaled=ss.transform(X_test)\n",
    "    \n",
    "    Y_pred=lm.predict(X_test_Scaled)\n",
    "    \n",
    "#     print(sns.distplot((Y_pred-Y_test),kde=True))\n",
    "    \n",
    "    mse=mean_squared_error(Y_test,Y_pred)\n",
    "    rmse=np.sqrt(mse)\n",
    "    mae=mean_absolute_error(Y_test,Y_pred)\n",
    "    r2 = r2_score(Y_test, Y_pred)\n",
    "    evs = explained_variance_score(Y_test, Y_pred)\n",
    "    medae = median_absolute_error(Y_test, Y_pred)\n",
    "    \n",
    "    print(f'Mean Squared Error (MSE): {mse}')\n",
    "    print(f'Root Mean Squared Error (RMSE): {rmse}')\n",
    "    print(f'Mean Absolute Error (MAE): {mae}')\n",
    "    print(f'R-squared (R²): {r2}')\n",
    "    print(f'Explained Variance Score (EVS): {evs}')\n",
    "    print(f'Median Absolute Error (MedAE): {medae}')\n",
    "    \n",
    "    \n",
    "    return Y_pred"
   ]
  },
  {
   "cell_type": "code",
   "execution_count": null,
   "id": "e0b29f3a",
   "metadata": {},
   "outputs": [],
   "source": []
  },
  {
   "cell_type": "markdown",
   "id": "2f7d61ee",
   "metadata": {},
   "source": [
    "#\n",
    "#\n",
    "#\n",
    "#"
   ]
  },
  {
   "cell_type": "code",
   "execution_count": 13,
   "id": "b3bb75f7",
   "metadata": {},
   "outputs": [
    {
     "name": "stdout",
     "output_type": "stream",
     "text": [
      "Data has been read\n"
     ]
    }
   ],
   "source": [
    "df=readData(\"\",\"Home_price_Train\")"
   ]
  },
  {
   "cell_type": "code",
   "execution_count": 14,
   "id": "97de942d",
   "metadata": {},
   "outputs": [
    {
     "name": "stdout",
     "output_type": "stream",
     "text": [
      "Data has been cleaned\n"
     ]
    }
   ],
   "source": [
    "df1,trainLowerBound,trainUpperBound=cleanData(df)"
   ]
  },
  {
   "cell_type": "code",
   "execution_count": 15,
   "id": "71b3d7b8",
   "metadata": {},
   "outputs": [
    {
     "name": "stdout",
     "output_type": "stream",
     "text": [
      "942\n",
      "942\n",
      "942\n",
      "Features are encoded\n"
     ]
    }
   ],
   "source": [
    "df2,trainFeatureDict,trainOHE=featureEncoding(df1)"
   ]
  },
  {
   "cell_type": "code",
   "execution_count": 16,
   "id": "887a0c85",
   "metadata": {},
   "outputs": [
    {
     "name": "stderr",
     "output_type": "stream",
     "text": [
      "C:\\Users\\User\\anaconda3\\Lib\\site-packages\\numpy\\core\\_methods.py:239: RuntimeWarning: overflow encountered in multiply\n",
      "  x = um.multiply(x, x, out=x)\n",
      "C:\\Users\\User\\anaconda3\\Lib\\site-packages\\scipy\\optimize\\_optimize.py:2488: RuntimeWarning: invalid value encountered in scalar multiply\n",
      "  tmp2 = (x - v) * (fx - fw)\n",
      "C:\\Users\\User\\anaconda3\\Lib\\site-packages\\numpy\\core\\_methods.py:250: RuntimeWarning: overflow encountered in reduce\n",
      "  ret = umr_sum(x, axis, dtype, out, keepdims=keepdims, where=where)\n",
      "C:\\Users\\User\\anaconda3\\Lib\\site-packages\\scipy\\stats\\_morestats.py:935: RuntimeWarning: divide by zero encountered in log\n",
      "  return (lmb - 1) * np.sum(logdata, axis=0) - N/2 * np.log(variance)\n",
      "C:\\Users\\User\\anaconda3\\Lib\\site-packages\\scipy\\optimize\\_optimize.py:2988: RuntimeWarning: invalid value encountered in scalar divide\n",
      "  w = xb - ((xb - xc) * tmp2 - (xb - xa) * tmp1) / denom\n",
      "C:\\Users\\User\\anaconda3\\Lib\\site-packages\\scipy\\optimize\\_optimize.py:2487: RuntimeWarning: invalid value encountered in scalar subtract\n",
      "  tmp1 = (x - w) * (fx - fv)\n",
      "C:\\Users\\User\\anaconda3\\Lib\\site-packages\\scipy\\optimize\\_optimize.py:2488: RuntimeWarning: invalid value encountered in scalar subtract\n",
      "  tmp2 = (x - v) * (fx - fw)\n",
      "C:\\Users\\User\\anaconda3\\Lib\\site-packages\\numpy\\core\\_methods.py:239: RuntimeWarning: overflow encountered in multiply\n",
      "  x = um.multiply(x, x, out=x)\n",
      "C:\\Users\\User\\anaconda3\\Lib\\site-packages\\scipy\\optimize\\_optimize.py:2488: RuntimeWarning: invalid value encountered in scalar multiply\n",
      "  tmp2 = (x - v) * (fx - fw)\n",
      "C:\\Users\\User\\anaconda3\\Lib\\site-packages\\numpy\\core\\_methods.py:250: RuntimeWarning: overflow encountered in reduce\n",
      "  ret = umr_sum(x, axis, dtype, out, keepdims=keepdims, where=where)\n"
     ]
    },
    {
     "name": "stdout",
     "output_type": "stream",
     "text": [
      "Feature transformation is completed\n"
     ]
    },
    {
     "name": "stderr",
     "output_type": "stream",
     "text": [
      "C:\\Users\\User\\anaconda3\\Lib\\site-packages\\numpy\\core\\_methods.py:239: RuntimeWarning: overflow encountered in multiply\n",
      "  x = um.multiply(x, x, out=x)\n",
      "C:\\Users\\User\\anaconda3\\Lib\\site-packages\\numpy\\core\\_methods.py:250: RuntimeWarning: overflow encountered in reduce\n",
      "  ret = umr_sum(x, axis, dtype, out, keepdims=keepdims, where=where)\n",
      "C:\\Users\\User\\anaconda3\\Lib\\site-packages\\scipy\\stats\\_morestats.py:935: RuntimeWarning: divide by zero encountered in log\n",
      "  return (lmb - 1) * np.sum(logdata, axis=0) - N/2 * np.log(variance)\n",
      "C:\\Users\\User\\anaconda3\\Lib\\site-packages\\scipy\\optimize\\_optimize.py:2487: RuntimeWarning: invalid value encountered in scalar subtract\n",
      "  tmp1 = (x - w) * (fx - fv)\n",
      "C:\\Users\\User\\anaconda3\\Lib\\site-packages\\scipy\\optimize\\_optimize.py:2488: RuntimeWarning: invalid value encountered in scalar subtract\n",
      "  tmp2 = (x - v) * (fx - fw)\n"
     ]
    }
   ],
   "source": [
    "df3=featureTransformation(df2)"
   ]
  },
  {
   "cell_type": "code",
   "execution_count": 17,
   "id": "49d7486c",
   "metadata": {},
   "outputs": [],
   "source": [
    "X_train,X_test,Y_train,Y_test=trainTestSplit(df3.drop('SalePrice',axis=1),df3[['SalePrice']])"
   ]
  },
  {
   "cell_type": "code",
   "execution_count": 18,
   "id": "23d4dfd5",
   "metadata": {},
   "outputs": [],
   "source": [
    "trainLM,trainSS=modelTraining(X_train,Y_train)"
   ]
  },
  {
   "cell_type": "code",
   "execution_count": 19,
   "id": "d3ab458e",
   "metadata": {
    "scrolled": true
   },
   "outputs": [
    {
     "name": "stdout",
     "output_type": "stream",
     "text": [
      "Mean Squared Error (MSE): 323826229.4990055\n",
      "Root Mean Squared Error (RMSE): 17995.17239425634\n",
      "Mean Absolute Error (MAE): 13535.430741341313\n",
      "R-squared (R²): 0.8793543087172566\n",
      "Explained Variance Score (EVS): 0.8796588592548856\n",
      "Median Absolute Error (MedAE): 10146.37082824108\n"
     ]
    }
   ],
   "source": [
    "Y_pred=modelTesting(X_test,Y_test,trainLM,trainSS)"
   ]
  },
  {
   "cell_type": "code",
   "execution_count": 20,
   "id": "913a584d",
   "metadata": {},
   "outputs": [
    {
     "data": {
      "text/plain": [
       "471"
      ]
     },
     "execution_count": 20,
     "metadata": {},
     "output_type": "execute_result"
    }
   ],
   "source": [
    "len(Y_pred)"
   ]
  },
  {
   "cell_type": "code",
   "execution_count": 21,
   "id": "195c41fe",
   "metadata": {
    "collapsed": true
   },
   "outputs": [
    {
     "data": {
      "text/plain": [
       "<matplotlib.collections.PathCollection at 0x2a163ea2690>"
      ]
     },
     "execution_count": 21,
     "metadata": {},
     "output_type": "execute_result"
    },
    {
     "data": {
      "image/png": "[encoded data removed]",
      "text/plain": [
       "<Figure size 640x480 with 1 Axes>"
      ]
     },
     "metadata": {},
     "output_type": "display_data"
    }
   ],
   "source": [
    "plt.scatter(x=Y_test,y=Y_pred)"
   ]
  },
  {
   "cell_type": "markdown",
   "id": "7d9f43e1",
   "metadata": {},
   "source": [
    "#\n",
    "#\n",
    "#"
   ]
  },
  {
   "cell_type": "markdown",
   "id": "4672b4f6",
   "metadata": {},
   "source": [
    "# Testing model with test data"
   ]
  },
  {
   "cell_type": "code",
   "execution_count": 22,
   "id": "2f6b1676",
   "metadata": {},
   "outputs": [
    {
     "name": "stdout",
     "output_type": "stream",
     "text": [
      "Data has been read\n"
     ]
    }
   ],
   "source": [
    "test_df=readData(\"\",\"test\")"
   ]
  },
  {
   "cell_type": "code",
   "execution_count": 27,
   "id": "a14cb02b",
   "metadata": {},
   "outputs": [
    {
     "name": "stdout",
     "output_type": "stream",
     "text": [
      "Data has been cleaned\n"
     ]
    }
   ],
   "source": [
    "test_df1=testCleanData(test_df,trainLowerBound,trainUpperBound)"
   ]
  },
  {
   "cell_type": "code",
   "execution_count": 30,
   "id": "ed58ccbe",
   "metadata": {},
   "outputs": [
    {
     "name": "stdout",
     "output_type": "stream",
     "text": [
      "Features are encoded\n"
     ]
    }
   ],
   "source": [
    "test_df2=trainFeatureEncoding(test_df1,trainOHE,trainFeatureDict)"
   ]
  },
  {
   "cell_type": "code",
   "execution_count": 31,
   "id": "38697aa8",
   "metadata": {},
   "outputs": [
    {
     "name": "stdout",
     "output_type": "stream",
     "text": [
      "<class 'pandas.core.frame.DataFrame'>\n",
      "RangeIndex: 0 entries\n",
      "Data columns (total 55 columns):\n",
      " #   Column         Non-Null Count  Dtype  \n",
      "---  ------         --------------  -----  \n",
      " 0   MSSubClass     0 non-null      int64  \n",
      " 1   MSZoning       0 non-null      int64  \n",
      " 2   LotArea        0 non-null      int64  \n",
      " 3   Street         0 non-null      int64  \n",
      " 4   LotShape       0 non-null      int64  \n",
      " 5   LandContour    0 non-null      int64  \n",
      " 6   LotConfig      0 non-null      int64  \n",
      " 7   LandSlope      0 non-null      int64  \n",
      " 8   Neighborhood   0 non-null      int64  \n",
      " 9   Condition1     0 non-null      int64  \n",
      " 10  Condition2     0 non-null      int64  \n",
      " 11  BldgType       0 non-null      int64  \n",
      " 12  HouseStyle     0 non-null      int64  \n",
      " 13  OverallQual    0 non-null      int64  \n",
      " 14  OverallCond    0 non-null      int64  \n",
      " 15  YearBuilt      0 non-null      int64  \n",
      " 16  YearRemodAdd   0 non-null      int64  \n",
      " 17  RoofStyle      0 non-null      int64  \n",
      " 18  RoofMatl       0 non-null      int64  \n",
      " 19  Exterior1st    0 non-null      int64  \n",
      " 20  Exterior2nd    0 non-null      int64  \n",
      " 21  ExterQual      0 non-null      int64  \n",
      " 22  ExterCond      0 non-null      int64  \n",
      " 23  Foundation     0 non-null      int64  \n",
      " 24  BsmtQual       0 non-null      int64  \n",
      " 25  BsmtCond       0 non-null      int64  \n",
      " 26  BsmtExposure   0 non-null      int64  \n",
      " 27  BsmtFinType1   0 non-null      int64  \n",
      " 28  BsmtFinType2   0 non-null      int64  \n",
      " 29  BsmtUnfSF      0 non-null      float64\n",
      " 30  TotalBsmtSF    0 non-null      float64\n",
      " 31  Heating        0 non-null      int64  \n",
      " 32  HeatingQC      0 non-null      int64  \n",
      " 33  CentralAir     0 non-null      int64  \n",
      " 34  Electrical     0 non-null      int64  \n",
      " 35  1stFlrSF       0 non-null      int64  \n",
      " 36  GrLivArea      0 non-null      int64  \n",
      " 37  FullBath       0 non-null      int64  \n",
      " 38  BedroomAbvGr   0 non-null      int64  \n",
      " 39  KitchenAbvGr   0 non-null      int64  \n",
      " 40  KitchenQual    0 non-null      int64  \n",
      " 41  TotRmsAbvGrd   0 non-null      int64  \n",
      " 42  Functional     0 non-null      int64  \n",
      " 43  GarageType     0 non-null      int64  \n",
      " 44  GarageYrBlt    0 non-null      float64\n",
      " 45  GarageFinish   0 non-null      int64  \n",
      " 46  GarageCars     0 non-null      float64\n",
      " 47  GarageArea     0 non-null      float64\n",
      " 48  GarageQual     0 non-null      int64  \n",
      " 49  GarageCond     0 non-null      int64  \n",
      " 50  PavedDrive     0 non-null      int64  \n",
      " 51  MoSold         0 non-null      int64  \n",
      " 52  YrSold         0 non-null      int64  \n",
      " 53  SaleType       0 non-null      int64  \n",
      " 54  SaleCondition  0 non-null      int64  \n",
      "dtypes: float64(5), int64(50)\n",
      "memory usage: 132.0 bytes\n"
     ]
    }
   ],
   "source": [
    "test_df2.info()"
   ]
  },
  {
   "cell_type": "code",
   "execution_count": 33,
   "id": "ea329087",
   "metadata": {},
   "outputs": [
    {
     "name": "stdout",
     "output_type": "stream",
     "text": [
      "Feature transformation is completed\n"
     ]
    }
   ],
   "source": [
    "test_df3=featureTransformation(test_df2)"
   ]
  },
  {
   "cell_type": "code",
   "execution_count": null,
   "id": "2ed83d32",
   "metadata": {},
   "outputs": [],
   "source": []
  }
 ],
 "metadata": {
  "kernelspec": {
   "display_name": "Python 3 (ipykernel)",
   "language": "python",
   "name": "python3"
  },
  "language_info": {
   "codemirror_mode": {
    "name": "ipython",
    "version": 3
   },
   "file_extension": ".py",
   "mimetype": "text/x-python",
   "name": "python",
   "nbconvert_exporter": "python",
   "pygments_lexer": "ipython3",
   "version": "3.11.5"
  }
 },
 "nbformat": 4,
 "nbformat_minor": 5
}
